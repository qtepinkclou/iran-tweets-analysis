{
 "cells": [
  {
   "attachments": {},
   "cell_type": "markdown",
   "metadata": {},
   "source": [
    "# Business Understanding\n",
    "\n",
    "Main goal of this work is to explain the basics of what is happening during the protests in Iran thorugh the tweets dataset. We are looking for the answers of the 3 questions listed below that will help to unravel the mysteries behind the protests:\n",
    "1. -\n",
    "2. Which time intervals have the most average tweets per day in the dataset and what kind of trend differences does tweets in this interval have when compared to the complete dataset?\n",
    "3. -"
   ]
  },
  {
   "cell_type": "markdown",
   "metadata": {},
   "source": [
    "# Data Understanding\n",
    "\n",
    "In this part we load the dataset into a pandas DataFrame and check for inconsistencies, missing values and other possible problems which may get in the way of a proper analysis of the dataset. "
   ]
  },
  {
   "cell_type": "code",
   "execution_count": 1,
   "metadata": {},
   "outputs": [],
   "source": [
    "import pandas as pd\n",
    "from data_wrangler import Wrangler"
   ]
  },
  {
   "cell_type": "code",
   "execution_count": 2,
   "metadata": {},
   "outputs": [
    {
     "data": {
      "text/html": [
       "<div>\n",
       "<style scoped>\n",
       "    .dataframe tbody tr th:only-of-type {\n",
       "        vertical-align: middle;\n",
       "    }\n",
       "\n",
       "    .dataframe tbody tr th {\n",
       "        vertical-align: top;\n",
       "    }\n",
       "\n",
       "    .dataframe thead th {\n",
       "        text-align: right;\n",
       "    }\n",
       "</style>\n",
       "<table border=\"1\" class=\"dataframe\">\n",
       "  <thead>\n",
       "    <tr style=\"text-align: right;\">\n",
       "      <th></th>\n",
       "      <th>user_name</th>\n",
       "      <th>user_location</th>\n",
       "      <th>user_description</th>\n",
       "      <th>user_created</th>\n",
       "      <th>user_followers</th>\n",
       "      <th>user_friends</th>\n",
       "      <th>user_favourites</th>\n",
       "      <th>user_verified</th>\n",
       "      <th>date</th>\n",
       "      <th>text</th>\n",
       "      <th>hashtags</th>\n",
       "      <th>source</th>\n",
       "    </tr>\n",
       "  </thead>\n",
       "  <tbody>\n",
       "    <tr>\n",
       "      <th>0</th>\n",
       "      <td>Heidi 🌊💙🇺🇦🇺🇸🇸🇰🌻🪴☕️🦅</td>\n",
       "      <td>Plainville, CT</td>\n",
       "      <td>I enjoy connecting w/ppl around the 🌍 Democrat...</td>\n",
       "      <td>2010-10-03 04:41:23+00:00</td>\n",
       "      <td>5916.0</td>\n",
       "      <td>6472</td>\n",
       "      <td>177328</td>\n",
       "      <td>False</td>\n",
       "      <td>2022-12-02 16:38:01+00:00</td>\n",
       "      <td>Don’t Let Them Stand Alone. The #women + Girls...</td>\n",
       "      <td>['women', 'IranianRegime']</td>\n",
       "      <td>Twitter for iPhone</td>\n",
       "    </tr>\n",
       "    <tr>\n",
       "      <th>1</th>\n",
       "      <td>Captain Merika</td>\n",
       "      <td>earth 🌍🌎</td>\n",
       "      <td>I hate all forms of dictatorship</td>\n",
       "      <td>2012-04-02 20:18:17+00:00</td>\n",
       "      <td>51.0</td>\n",
       "      <td>85</td>\n",
       "      <td>43</td>\n",
       "      <td>False</td>\n",
       "      <td>2022-12-02 16:35:59+00:00</td>\n",
       "      <td>🇮🇷Mina Yagoubi, 33, a citizen of Arak, arreste...</td>\n",
       "      <td>NaN</td>\n",
       "      <td>Twitter for Android</td>\n",
       "    </tr>\n",
       "    <tr>\n",
       "      <th>2</th>\n",
       "      <td>marjan nourai</td>\n",
       "      <td>NaN</td>\n",
       "      <td>in the now</td>\n",
       "      <td>2021-01-06 22:23:55+00:00</td>\n",
       "      <td>72.0</td>\n",
       "      <td>92</td>\n",
       "      <td>14751</td>\n",
       "      <td>False</td>\n",
       "      <td>2022-12-02 16:33:47+00:00</td>\n",
       "      <td>Tweeting isn’t enough! Social Media isn’t enou...</td>\n",
       "      <td>['WomanLifeFreedom', 'IranProtests2022', 'Iran...</td>\n",
       "      <td>Twitter for iPhone</td>\n",
       "    </tr>\n",
       "    <tr>\n",
       "      <th>3</th>\n",
       "      <td>IranWire</td>\n",
       "      <td>NaN</td>\n",
       "      <td>News and stories from the heart of #Iran.</td>\n",
       "      <td>2013-04-17 12:59:02+00:00</td>\n",
       "      <td>37877.0</td>\n",
       "      <td>1291</td>\n",
       "      <td>6455</td>\n",
       "      <td>False</td>\n",
       "      <td>2022-12-02 16:29:00+00:00</td>\n",
       "      <td>At #Iran's temporary detention centres, for th...</td>\n",
       "      <td>['Iran']</td>\n",
       "      <td>Buffer</td>\n",
       "    </tr>\n",
       "    <tr>\n",
       "      <th>4</th>\n",
       "      <td>Hamidreza Azizi</td>\n",
       "      <td>Berlin</td>\n",
       "      <td>PhD | Visiting Fellow @SWPBerlin | Associate @...</td>\n",
       "      <td>2012-12-04 12:22:28+00:00</td>\n",
       "      <td>4523.0</td>\n",
       "      <td>470</td>\n",
       "      <td>34219</td>\n",
       "      <td>True</td>\n",
       "      <td>2022-12-02 16:28:44+00:00</td>\n",
       "      <td>There are at least two problems with this ethn...</td>\n",
       "      <td>NaN</td>\n",
       "      <td>Twitter for iPhone</td>\n",
       "    </tr>\n",
       "  </tbody>\n",
       "</table>\n",
       "</div>"
      ],
      "text/plain": [
       "             user_name   user_location  \\\n",
       "0  Heidi 🌊💙🇺🇦🇺🇸🇸🇰🌻🪴☕️🦅  Plainville, CT   \n",
       "1       Captain Merika        earth 🌍🌎   \n",
       "2        marjan nourai             NaN   \n",
       "3             IranWire             NaN   \n",
       "4      Hamidreza Azizi          Berlin   \n",
       "\n",
       "                                    user_description  \\\n",
       "0  I enjoy connecting w/ppl around the 🌍 Democrat...   \n",
       "1                   I hate all forms of dictatorship   \n",
       "2                                         in the now   \n",
       "3          News and stories from the heart of #Iran.   \n",
       "4  PhD | Visiting Fellow @SWPBerlin | Associate @...   \n",
       "\n",
       "                user_created user_followers user_friends user_favourites  \\\n",
       "0  2010-10-03 04:41:23+00:00         5916.0         6472          177328   \n",
       "1  2012-04-02 20:18:17+00:00           51.0           85              43   \n",
       "2  2021-01-06 22:23:55+00:00           72.0           92           14751   \n",
       "3  2013-04-17 12:59:02+00:00        37877.0         1291            6455   \n",
       "4  2012-12-04 12:22:28+00:00         4523.0          470           34219   \n",
       "\n",
       "  user_verified                       date  \\\n",
       "0         False  2022-12-02 16:38:01+00:00   \n",
       "1         False  2022-12-02 16:35:59+00:00   \n",
       "2         False  2022-12-02 16:33:47+00:00   \n",
       "3         False  2022-12-02 16:29:00+00:00   \n",
       "4          True  2022-12-02 16:28:44+00:00   \n",
       "\n",
       "                                                text  \\\n",
       "0  Don’t Let Them Stand Alone. The #women + Girls...   \n",
       "1  🇮🇷Mina Yagoubi, 33, a citizen of Arak, arreste...   \n",
       "2  Tweeting isn’t enough! Social Media isn’t enou...   \n",
       "3  At #Iran's temporary detention centres, for th...   \n",
       "4  There are at least two problems with this ethn...   \n",
       "\n",
       "                                            hashtags               source  \n",
       "0                         ['women', 'IranianRegime']   Twitter for iPhone  \n",
       "1                                                NaN  Twitter for Android  \n",
       "2  ['WomanLifeFreedom', 'IranProtests2022', 'Iran...   Twitter for iPhone  \n",
       "3                                           ['Iran']               Buffer  \n",
       "4                                                NaN   Twitter for iPhone  "
      ]
     },
     "execution_count": 2,
     "metadata": {},
     "output_type": "execute_result"
    }
   ],
   "source": [
    "tweets = pd.read_csv('tweets.csv', dtype=object)\n",
    "wrangle = Wrangler()\n",
    "tweets.head()"
   ]
  },
  {
   "cell_type": "markdown",
   "metadata": {},
   "source": [
    "# Prepare Data\n",
    "\n",
    "In this part we will pre-process our data for it to be ready for the actual analysis in terms of finding the answers to our questions listed at the top."
   ]
  },
  {
   "cell_type": "code",
   "execution_count": 3,
   "metadata": {},
   "outputs": [
    {
     "name": "stdout",
     "output_type": "stream",
     "text": [
      "Percentage of tweets removed due to having invalid attributes is:\n",
      "6.897837084370938\n"
     ]
    }
   ],
   "source": [
    "tweets = tweets.dropna(\n",
    "    subset=['user_verified', 'text', 'user_followers', 'user_created', 'user_friends', 'user_favourites', 'date', 'source', 'user_name']\n",
    ")\n",
    "\n",
    "valid_sources = [\n",
    "    'Twitter for Android',\n",
    "    'Twitter for iPhone',\n",
    "    'Twitter Web App',\n",
    "    'Twitter for iPad'\n",
    "]\n",
    "valid_src_tweets = tweets.loc[tweets['source'].isin(valid_sources)]\n",
    "\n",
    "print('Percentage of tweets removed due to having invalid attributes is:')\n",
    "print((len(tweets) - len(valid_src_tweets))/len(tweets) * 100)"
   ]
  },
  {
   "cell_type": "markdown",
   "metadata": {},
   "source": [
    "Aside from a few vital missing values in a small subset of tweets, I have realised that a considerable amount of tweets were posted using sources that are non-Twitter applications and third-party clients. Further research on internet showed that tweets with non-Twitter application sources point to user accounts likely to be managed by bots as well as tweets posted through validated Twitter applications are likely to be human beings. Therefore I have decided to filter out any tweets (rows) form the dataset which does not have a valid Twitter application as its source."
   ]
  },
  {
   "attachments": {},
   "cell_type": "markdown",
   "metadata": {},
   "source": [
    "Further research showed that even state of the art bot detection algorithms for twitter depends heavily on the source of the tweet and therefore validated my approach."
   ]
  },
  {
   "cell_type": "markdown",
   "metadata": {},
   "source": [
    "There are further cleaning and preparation of the data that is employed through the Wrangler class such as removal of stop words, various regex impressions to disect the text into different types of words etc. Please refer to the data_wrangler.py for more information."
   ]
  },
  {
   "cell_type": "markdown",
   "metadata": {},
   "source": [
    "# Model Data"
   ]
  },
  {
   "attachments": {},
   "cell_type": "markdown",
   "metadata": {},
   "source": [
    "### Question 2: Which time intervals have the most average tweets per day in the dataset and what kind of trend differences does tweets in this interval have when compared to the complete dataset?"
   ]
  },
  {
   "attachments": {},
   "cell_type": "markdown",
   "metadata": {},
   "source": [
    "With the help of the `Wrangle` class, we will be able to take a look at each text of the tweet, remove links, group hashtags and words by the alphabet used and count each of the respective word's total occurence within the dataset."
   ]
  },
  {
   "cell_type": "code",
   "execution_count": 4,
   "metadata": {},
   "outputs": [
    {
     "name": "stdout",
     "output_type": "stream",
     "text": [
      "New len of list is : 87997\n",
      "First 1 elements in list are: \n",
      "\n",
      "('iran', 84529)\n",
      "New len of list is : 19897\n",
      "First 1 elements in list are: \n",
      "\n",
      "('mahsaamini', 193824)\n"
     ]
    }
   ],
   "source": [
    "wrangle.disect_text(valid_src_tweets.text.unique())\n",
    "latin_words = wrangle.sort_to_list('latin_words', num=1)\n",
    "latin_hashtags = wrangle.sort_to_list('latin_hashtags', num=1)"
   ]
  },
  {
   "cell_type": "markdown",
   "metadata": {},
   "source": [
    "We first copy the original dataset, so that we can do independent analysis on it."
   ]
  },
  {
   "cell_type": "code",
   "execution_count": 7,
   "metadata": {},
   "outputs": [],
   "source": [
    "q2_tweets = valid_src_tweets.copy()"
   ]
  },
  {
   "cell_type": "markdown",
   "metadata": {},
   "source": [
    "We transform the dates column which turns the dates of the tweets into datetime format."
   ]
  },
  {
   "cell_type": "code",
   "execution_count": 8,
   "metadata": {},
   "outputs": [],
   "source": [
    "q2_tweets.date = pd.to_datetime(q2_tweets.date, format='%Y-%m-%d %H:%M:%S%z')"
   ]
  },
  {
   "cell_type": "markdown",
   "metadata": {},
   "source": [
    "We then create a new column consisting only year-month-day variables of the date column."
   ]
  },
  {
   "cell_type": "code",
   "execution_count": 9,
   "metadata": {},
   "outputs": [],
   "source": [
    "q2_tweets['YMD'] = q2_tweets['date'].dt.date"
   ]
  },
  {
   "cell_type": "markdown",
   "metadata": {},
   "source": [
    "To demonstrate, the first row has this value in its new column:"
   ]
  },
  {
   "cell_type": "code",
   "execution_count": 10,
   "metadata": {},
   "outputs": [
    {
     "data": {
      "text/plain": [
       "datetime.date(2022, 12, 2)"
      ]
     },
     "execution_count": 10,
     "metadata": {},
     "output_type": "execute_result"
    }
   ],
   "source": [
    "q2_tweets.YMD[0]"
   ]
  },
  {
   "cell_type": "markdown",
   "metadata": {},
   "source": [
    "We then find the occurence counts of each date using pandas.value_counts method. Then we zip these numbers with their respected date as below into a list of tuples."
   ]
  },
  {
   "cell_type": "code",
   "execution_count": 11,
   "metadata": {},
   "outputs": [],
   "source": [
    "date_date = q2_tweets.YMD.value_counts().sort_index().index\n",
    "date_occ = q2_tweets.YMD.value_counts().sort_index()\n",
    "dates = list(zip(date_date, date_occ))"
   ]
  },
  {
   "cell_type": "markdown",
   "metadata": {},
   "source": [
    "Next we will use the `Wrangler.date_occ_group` method in order to take successive days into 1-7 day groups and calculate the average tweet count with respect to day group length."
   ]
  },
  {
   "cell_type": "code",
   "execution_count": 12,
   "metadata": {},
   "outputs": [],
   "source": [
    "occ_dict = wrangle.date_occ_group(dates, [1,2,3,4,5,6,7])"
   ]
  },
  {
   "cell_type": "markdown",
   "metadata": {},
   "source": [
    "To find the highest average counts in each day group category, we sort each dictionary value and present the first elements."
   ]
  },
  {
   "cell_type": "code",
   "execution_count": 13,
   "metadata": {},
   "outputs": [
    {
     "data": {
      "text/plain": [
       "{1: ('between 10-03 - 10-03', 12009.0),\n",
       " 2: ('between 10-02 - 10-03', 9163.5),\n",
       " 3: ('between 10-01 - 10-03', 9116.333333333334),\n",
       " 4: ('between 10-01 - 10-04', 7882.5),\n",
       " 5: ('between 10-01 - 10-05', 7820.6),\n",
       " 6: ('between 10-01 - 10-06', 6771.333333333333),\n",
       " 7: ('between 10-01 - 10-07', 6872.571428571428)}"
      ]
     },
     "execution_count": 13,
     "metadata": {},
     "output_type": "execute_result"
    }
   ],
   "source": [
    "max_dict = dict()\n",
    "for key, value in occ_dict.items():\n",
    "    maks = ('', 0)\n",
    "    for elem in value:\n",
    "        if elem[1] > maks[1]:\n",
    "            maks = elem\n",
    "    max_dict[key] = maks\n",
    "\n",
    "max_dict"
   ]
  },
  {
   "cell_type": "markdown",
   "metadata": {},
   "source": [
    "From these results, we can conclude that most of the tweets in the dataset was in October 3rd. On average most tweeted successive two days were October 2nd to 3rd, and three days are October 1st to 3rd and so on."
   ]
  },
  {
   "cell_type": "markdown",
   "metadata": {},
   "source": [
    "Additionally, we make the observation that each day group with length $N$, where $2 \\le N \\le 7$, includes the day group with length $K$ where $1 \\le K  \\le N-1$."
   ]
  },
  {
   "cell_type": "markdown",
   "metadata": {},
   "source": [
    "Since the trend regarding the amount of tweets by date in the dataset seems to be focused in one connected interval (October 1st to October 7th), I have decided that a 75% average tweet count falloff from the maximum tweets in one day in the dataset is an acceptable threshold. Therefore we continue with 3-day group, 10-01 to 10-03, for frequency comparison of words with the whole dataset."
   ]
  },
  {
   "cell_type": "code",
   "execution_count": 14,
   "metadata": {},
   "outputs": [],
   "source": [
    "import datetime\n",
    "start_date = datetime.date(2022,10,1)\n",
    "end_date = datetime.date(2022,10,3)\n",
    "mask = (q2_tweets.YMD >= start_date) & (q2_tweets.YMD <= end_date)\n",
    "q2_tweets_3day = q2_tweets.loc[mask]"
   ]
  },
  {
   "cell_type": "code",
   "execution_count": 15,
   "metadata": {},
   "outputs": [
    {
     "data": {
      "text/plain": [
       "2022-10-03    12009\n",
       "2022-10-01     9022\n",
       "2022-10-02     6318\n",
       "Name: YMD, dtype: int64"
      ]
     },
     "execution_count": 15,
     "metadata": {},
     "output_type": "execute_result"
    }
   ],
   "source": [
    "q2_tweets_3day.YMD.value_counts()"
   ]
  },
  {
   "cell_type": "markdown",
   "metadata": {},
   "source": [
    "We then take the tweets in this interval and disect them by being hashtag or word and latin or persian."
   ]
  },
  {
   "cell_type": "code",
   "execution_count": 16,
   "metadata": {},
   "outputs": [],
   "source": [
    "q2_wrangle = Wrangler()\n",
    "q2_wrangle.disect_text(q2_tweets_3day.text.unique())"
   ]
  },
  {
   "cell_type": "code",
   "execution_count": 17,
   "metadata": {},
   "outputs": [
    {
     "name": "stdout",
     "output_type": "stream",
     "text": [
      "New len of list is : 20390\n",
      "First 1 elements in list are: \n",
      "\n",
      "('iran', 8090)\n"
     ]
    }
   ],
   "source": [
    "latin_words_q2 = q2_wrangle.sort_to_list('latin_words', num=1)"
   ]
  },
  {
   "cell_type": "code",
   "execution_count": 18,
   "metadata": {},
   "outputs": [
    {
     "name": "stdout",
     "output_type": "stream",
     "text": [
      "New len of list is : 3277\n",
      "First 1 elements in list are: \n",
      "\n",
      "('mahsaamini', 18909)\n"
     ]
    }
   ],
   "source": [
    "latin_hashtags_q2 = q2_wrangle.sort_to_list('latin_hashtags', num=1)"
   ]
  },
  {
   "cell_type": "markdown",
   "metadata": {},
   "source": [
    "We take the most occurred first 100 words in the 3 day group and find the corresponding word counts in the whole dataset."
   ]
  },
  {
   "cell_type": "code",
   "execution_count": 17,
   "metadata": {},
   "outputs": [],
   "source": [
    "words_comparison = q2_wrangle.compare_freq(\n",
    "    group_word_list=latin_words_q2,\n",
    "    dataset_word_list=latin_words,\n",
    "    len_group=len(q2_tweets_3day.text.unique()),\n",
    "    len_dataset=len(valid_src_tweets.text.unique())\n",
    ")"
   ]
  },
  {
   "cell_type": "code",
   "execution_count": 18,
   "metadata": {},
   "outputs": [],
   "source": [
    "hashtags_comparison = q2_wrangle.compare_freq(\n",
    "    group_word_list=latin_hashtags_q2,\n",
    "    dataset_word_list=latin_hashtags,\n",
    "    len_group=len(q2_tweets_3day.text.unique()),\n",
    "    len_dataset=len(valid_src_tweets.text.unique())\n",
    ")"
   ]
  },
  {
   "cell_type": "markdown",
   "metadata": {},
   "source": [
    "Below, each element in the list represents a word in such structure:\n",
    "- First element is the Word\n",
    "- Second element is the ratio difference between the frequency values 3-day group and whole dataset\n",
    "- Third element is the word's occurence frequency in 3-day group tweets\n",
    "- Fourth element is the word's occurence frequency in whole dataset"
   ]
  },
  {
   "cell_type": "markdown",
   "metadata": {},
   "source": [
    "Looking at the results, a cutoff of first 20 elements for words and hashtags frequency lists seemed reasonable."
   ]
  },
  {
   "cell_type": "code",
   "execution_count": 21,
   "metadata": {},
   "outputs": [
    {
     "data": {
      "text/plain": [
       "[('sharif', 8.11478173954355, 0.08942416258938653, 0.009810894560582721),\n",
       " ('students', 2.7260198625009573, 0.2186676703048551, 0.058686662544542176),\n",
       " ('university', 2.670089933919305, 0.13699661272111405, 0.03732786258314242),\n",
       " ('police', 1.3087736443852935, 0.056755739555890104, 0.02458263489533259),\n",
       " ('tehran', 0.8670021061213494, 0.06977794505080918, 0.0373743258360705),\n",
       " ('need', 0.5882178055313486, 0.05965374482499059, 0.03756017884778281),\n",
       " ('forces', 0.519347245334075, 0.08814452389913437, 0.05801473242527458),\n",
       " ('please', 0.4953124983194085, 0.1140760255927738, 0.07628908721152575),\n",
       " ('support', 0.2852370985326363, 0.07866014301844185, 0.061202826395416576),\n",
       " ('women', 0.23650712439677252, 0.0929619872036131, 0.07518111733401003),\n",
       " ('help', 0.1699571226020172, 0.061083929243507716, 0.052210399905643856),\n",
       " ('freedom', 0.16129364538550206, 0.1121942039894618, 0.09661139922299145),\n",
       " ('voice', 0.023339914567972107, 0.1220549491908167, 0.1192711702663774),\n",
       " ('iran', 0.007824650247195648, 0.30447873541588255, 0.30211479282750336),\n",
       " ('iranian', -0.019330251210168254, 0.15709446744448627, 0.1601909997104982),\n",
       " ('amp', -0.15083105748765774, 0.059917199849454275, 0.07055981071585576),\n",
       " ('regime', -0.28329645619537924, 0.14919081671057582, 0.20816252131054966),\n",
       " ('people', -0.30619277250258303, 0.14388407978923598, 0.20738336829990958),\n",
       " ('islamic', -0.44167803048559096, 0.08347760632292059, 0.1495151738261774),\n",
       " ('republic', -0.45652175762201225, 0.057583741061347386, 0.1059540871579143)]"
      ]
     },
     "execution_count": 21,
     "metadata": {},
     "output_type": "execute_result"
    }
   ],
   "source": [
    "words_comparison_cutoff = sorted(\n",
    "    words_comparison[0:20],\n",
    "    key=lambda x:x[1],\n",
    "    reverse=True\n",
    ")\n",
    "\n",
    "words_comparison_cutoff"
   ]
  },
  {
   "cell_type": "code",
   "execution_count": 22,
   "metadata": {},
   "outputs": [
    {
     "data": {
      "text/plain": [
       "[('sharif_university',\n",
       "  7.514452200309245,\n",
       "  0.024162589386526157,\n",
       "  0.0028378325249918688),\n",
       " ('sharifuniversity',\n",
       "  7.377927180586662,\n",
       "  0.05171245765901392,\n",
       "  0.006172464446676269),\n",
       " ('iranianlivesmatter',\n",
       "  1.3476474929277749,\n",
       "  0.023334587881068874,\n",
       "  0.009939562030229707),\n",
       " ('oplran', 0.8202243536147601, 0.06605193827625142, 0.03628780053682928),\n",
       " ('iranprotests2022',\n",
       "  0.8114393341825191,\n",
       "  0.34561535566428303,\n",
       "  0.19079598700458555),\n",
       " ('tehran', 0.7160812360591224, 0.017952578095596538, 0.010461380101575818),\n",
       " ('iranianwomen',\n",
       "  0.5520689434252547,\n",
       "  0.01870530673692134,\n",
       "  0.012051852990267736),\n",
       " ('endiranregime',\n",
       "  0.5252423722901152,\n",
       "  0.007452013549115544,\n",
       "  0.004885789750206404),\n",
       " ('mahsa_amini', 0.4446383382262884, 0.11242002258185924, 0.07781880046177325),\n",
       " ('opiran', 0.37077529869164866, 0.19518253669552127, 0.14238842564628598),\n",
       " ('freedom',\n",
       "  0.30673042837185516,\n",
       "  0.0077154685735792245,\n",
       "  0.0059044072182450474),\n",
       " ('humanrights',\n",
       "  0.09053879903691973,\n",
       "  0.007113285660519383,\n",
       "  0.006522725891826399),\n",
       " ('freeiran',\n",
       "  0.052570827928746115,\n",
       "  0.017124576590139256,\n",
       "  0.016269286717585627),\n",
       " ('mahsaamini', 0.027313974734377827, 0.7116672939405344, 0.6927456565793754),\n",
       " ('iran', -0.036957700020056064, 0.14870154309371472, 0.15440811176914196),\n",
       " ('iranprotests',\n",
       "  -0.17394269922711403,\n",
       "  0.14350771546857358,\n",
       "  0.17372610269808536),\n",
       " ('iranian', -0.1878199096725631, 0.007640195709446744, 0.009407021669746347),\n",
       " ('iranrevolution',\n",
       "  -0.3104805974154138,\n",
       "  0.23274369589762892,\n",
       "  0.33754481023335275),\n",
       " ('iranrevolution2022',\n",
       "  -0.46538145532017855,\n",
       "  0.04023334587881069,\n",
       "  0.07525617335797077),\n",
       " ('womanlifefreedom',\n",
       "  -0.5936544390105728,\n",
       "  0.009710199473089952,\n",
       "  0.02389640839054866)]"
      ]
     },
     "execution_count": 22,
     "metadata": {},
     "output_type": "execute_result"
    }
   ],
   "source": [
    "hashtags_comparison_cutoff = []\n",
    "\n",
    "hashtags_comparison_cutoff = sorted(\n",
    "    hashtags_comparison[0:20],\n",
    "    key=lambda x:x[1],\n",
    "    reverse=True\n",
    ")\n",
    "\n",
    "hashtags_comparison_cutoff"
   ]
  },
  {
   "cell_type": "markdown",
   "metadata": {},
   "source": [
    "When comparing the most frequent words and hashtags in the 3-day group against the complete dataset, I have realised that words such as 'student', 'university', 'sharif' and hashtags such as 'sharifuniversity' and 'sharif_university' are among the most frequent in the 3-day group words.\n",
    "\n",
    "Percentage of frequencies and their respective differences of words are presented below in a table:\n",
    "\n",
    "|Word|Percentage Rise in Ratio between 3-day group and complete dataset|Frequency in 3-day group|Frequency in complete dataset|\n",
    "|---|---|---|---|\n",
    "|sharif|8.11478173954355|0.08942416258938653|0.009810894560582721|\n",
    "|university|2.670089933919305|0.13699661272111405|0.03732786258314242|\n",
    "|student|2.7260198625009573|0.2186676703048551|0.058686662544542176|\n",
    "\n",
    "And hashtags are:\n",
    "\n",
    "|Hashtag|Percentage Rise in Ratio between 3-day group and complete dataset|Frequency in 3-day group|Frequency in complete dataset|\n",
    "|---|---|---|---|\n",
    "|sharifuniversity|7.377927180586662|0.05171245765901392|0.006172464446676269|\n",
    "|sharif_university|7.514452200309245|0.024162589386526157|0.0028378325249918688|"
   ]
  },
  {
   "cell_type": "markdown",
   "metadata": {},
   "source": [
    "Research on the timeline of Mahsa Amini Protests revealed that there was a clash between students of the Sharif University of Technology and security forces on October 2nd. Considering this with the rise in ratio of frequency of these specific words and hashtags, we can deduce that the high average tweet counts are likely to be correlated with the events took place on October 2nd. Because of this correlation between the clash of October 2nd and the high average tweet counts, the natural hypothesis that one of the major motivations behind the tweets in this period are concerned with the clash is formed. Thus, this hypothesis warrants for further analysis of the event against tweets. Realising that taking the 3-day group starting from October 1st might have caused a loss in information since the words most frequent were attributed to an event that took place the next day, I have decided to repeat the frequency analysis between 10-01 to 10-02 which is the most tweeted 2-day group according to our previous analysis and would be more representative of the tweets related to the clash on October 2nd."
   ]
  },
  {
   "cell_type": "code",
   "execution_count": 19,
   "metadata": {},
   "outputs": [
    {
     "name": "stdout",
     "output_type": "stream",
     "text": [
      "New len of list is : 16749\n",
      "First 1 elements in list are: \n",
      "\n",
      "('students', 5613)\n",
      "New len of list is : 2547\n",
      "First 1 elements in list are: \n",
      "\n",
      "('mahsaamini', 12003)\n"
     ]
    }
   ],
   "source": [
    "start_date = datetime.date(2022,10,2)\n",
    "end_date = datetime.date(2022,10,3)\n",
    "mask = (q2_tweets.YMD >= start_date) & (q2_tweets.YMD <= end_date)\n",
    "q2_tweets_2day = q2_tweets.loc[mask]\n",
    "\n",
    "q2_wrangle_2day = Wrangler()\n",
    "q2_wrangle_2day.disect_text(q2_tweets_2day.text.unique())\n",
    "\n",
    "latin_words_q2_2day = q2_wrangle_2day.sort_to_list('latin_words', num=1)\n",
    "latin_hashtags_q2_2day = q2_wrangle_2day.sort_to_list('latin_hashtags', num=1)\n",
    "\n",
    "words_comparison_2day = q2_wrangle_2day.compare_freq(\n",
    "    group_word_list=latin_words_q2_2day,\n",
    "    dataset_word_list=latin_words,\n",
    "    len_group=len(q2_tweets_2day.text.unique()),\n",
    "    len_dataset=len(valid_src_tweets.text.unique())\n",
    ")\n",
    "\n",
    "hashtags_comparison_2day = q2_wrangle_2day.compare_freq(\n",
    "    group_word_list=latin_hashtags_q2_2day,\n",
    "    dataset_word_list=latin_hashtags,\n",
    "    len_group=len(q2_tweets_2day.text.unique()),\n",
    "    len_dataset=len(valid_src_tweets.text.unique())\n",
    ")"
   ]
  },
  {
   "cell_type": "code",
   "execution_count": 26,
   "metadata": {},
   "outputs": [
    {
     "data": {
      "text/plain": [
       "[('sharif_university',\n",
       "  11.797929227935546,\n",
       "  0.03631837981557957,\n",
       "  0.0028378325249918688),\n",
       " ('sharifuniversity',\n",
       "  11.592720777744391,\n",
       "  0.07772812128754879,\n",
       "  0.006172464446676269),\n",
       " ('mahsaamin', 3.365364990637652, 0.008768456186004412, 0.0020086421650446227),\n",
       " ('iranianlivesmatter',\n",
       "  1.4644050272278715,\n",
       "  0.024495106635741358,\n",
       "  0.009939562030229707),\n",
       " ('tehran', 0.8277599483376481, 0.019120891553996718, 0.010461380101575818),\n",
       " ('endiranregime',\n",
       "  0.7715283011301848,\n",
       "  0.00865531481586242,\n",
       "  0.004885789750206404),\n",
       " ('iranprotests2022',\n",
       "  0.7273990737326296,\n",
       "  0.3295808112236239,\n",
       "  0.19079598700458555),\n",
       " ('iranianwomen',\n",
       "  0.5865520073500283,\n",
       "  0.019120891553996718,\n",
       "  0.012051852990267736),\n",
       " ('mahsa_amini', 0.5396884849083128, 0.11981671098036997, 0.07781880046177325),\n",
       " ('humanrights',\n",
       "  0.3096017811241447,\n",
       "  0.008542173445720428,\n",
       "  0.006522725891826399),\n",
       " ('freeiran', 0.24134111844718328, 0.020195734570345646, 0.016269286717585627),\n",
       " ('opiran', 0.17838687490924804, 0.16778865192057477, 0.14238842564628598),\n",
       " ('iranprotests',\n",
       "  0.018900849314326847,\n",
       "  0.17700967358714714,\n",
       "  0.17372610269808536),\n",
       " ('iran', 0.017046448905992943, 0.15704022175708549, 0.15440811176914196),\n",
       " ('mahsaamini', -0.0198163980413711, 0.6790179329071675, 0.6927456565793754),\n",
       " ('iranrevolution',\n",
       "  -0.12012838705056786,\n",
       "  0.2969960966227301,\n",
       "  0.33754481023335275),\n",
       " ('iranian', -0.16410044529210674, 0.007863325224868474, 0.009407021669746347),\n",
       " ('oplran', -0.1924664919540891, 0.029303614866776035, 0.03628780053682928),\n",
       " ('iranrevolution2022',\n",
       "  -0.5061276911483041,\n",
       "  0.03716694009164451,\n",
       "  0.07525617335797077),\n",
       " ('womanlifefreedom',\n",
       "  -0.5928192357115996,\n",
       "  0.009730157832211348,\n",
       "  0.02389640839054866)]"
      ]
     },
     "execution_count": 26,
     "metadata": {},
     "output_type": "execute_result"
    }
   ],
   "source": [
    "hashtags_comparison_cutoff_2day = sorted(\n",
    "    hashtags_comparison_2day[0:20],\n",
    "    key=lambda x:x[1],\n",
    "    reverse=True\n",
    ")\n",
    "\n",
    "hashtags_comparison_cutoff_2day"
   ]
  },
  {
   "cell_type": "code",
   "execution_count": 27,
   "metadata": {},
   "outputs": [
    {
     "data": {
      "text/plain": [
       "[('sharif_university',\n",
       "  11.797929227935546,\n",
       "  0.03631837981557957,\n",
       "  0.0028378325249918688),\n",
       " ('sharifuniversity',\n",
       "  11.592720777744391,\n",
       "  0.07772812128754879,\n",
       "  0.006172464446676269),\n",
       " ('mahsaamin', 3.365364990637652, 0.008768456186004412, 0.0020086421650446227),\n",
       " ('iranianlivesmatter',\n",
       "  1.4644050272278715,\n",
       "  0.024495106635741358,\n",
       "  0.009939562030229707),\n",
       " ('tehran', 0.8277599483376481, 0.019120891553996718, 0.010461380101575818),\n",
       " ('endiranregime',\n",
       "  0.7715283011301848,\n",
       "  0.00865531481586242,\n",
       "  0.004885789750206404),\n",
       " ('iranprotests2022',\n",
       "  0.7273990737326296,\n",
       "  0.3295808112236239,\n",
       "  0.19079598700458555),\n",
       " ('iranianwomen',\n",
       "  0.5865520073500283,\n",
       "  0.019120891553996718,\n",
       "  0.012051852990267736),\n",
       " ('mahsa_amini', 0.5396884849083128, 0.11981671098036997, 0.07781880046177325),\n",
       " ('humanrights',\n",
       "  0.3096017811241447,\n",
       "  0.008542173445720428,\n",
       "  0.006522725891826399),\n",
       " ('freeiran', 0.24134111844718328, 0.020195734570345646, 0.016269286717585627),\n",
       " ('opiran', 0.17838687490924804, 0.16778865192057477, 0.14238842564628598),\n",
       " ('iranprotests',\n",
       "  0.018900849314326847,\n",
       "  0.17700967358714714,\n",
       "  0.17372610269808536),\n",
       " ('iran', 0.017046448905992943, 0.15704022175708549, 0.15440811176914196),\n",
       " ('mahsaamini', -0.0198163980413711, 0.6790179329071675, 0.6927456565793754),\n",
       " ('iranrevolution',\n",
       "  -0.12012838705056786,\n",
       "  0.2969960966227301,\n",
       "  0.33754481023335275),\n",
       " ('iranian', -0.16410044529210674, 0.007863325224868474, 0.009407021669746347),\n",
       " ('oplran', -0.1924664919540891, 0.029303614866776035, 0.03628780053682928),\n",
       " ('iranrevolution2022',\n",
       "  -0.5061276911483041,\n",
       "  0.03716694009164451,\n",
       "  0.07525617335797077),\n",
       " ('womanlifefreedom',\n",
       "  -0.5928192357115996,\n",
       "  0.009730157832211348,\n",
       "  0.02389640839054866)]"
      ]
     },
     "execution_count": 27,
     "metadata": {},
     "output_type": "execute_result"
    }
   ],
   "source": [
    "hashtags_comparison_cutoff_2day = sorted(\n",
    "    hashtags_comparison_2day[0:20],\n",
    "    key=lambda x:x[1],\n",
    "    reverse=True\n",
    ")\n",
    "\n",
    "hashtags_comparison_cutoff_2day"
   ]
  },
  {
   "cell_type": "markdown",
   "metadata": {},
   "source": [
    "Percentage of frequencies and their respective differences of words are presented below in a table:\n",
    "\n",
    "|Word|Percentage Rise in Ratio between 2-day group and complete dataset|Frequency in 2-day group|Frequency in complete dataset|\n",
    "|---|---|---|---|\n",
    "|sharif|12.694508305431826|0.134355377043616|0.009810894560582721|\n",
    "|university|4.248205196976158|0.19590428240085989|0.03732786258314242|\n",
    "|student|4.4106204295141325|0.31753125530350174|0.058686662544542176|\n",
    "\n",
    "And hashtags are:\n",
    "\n",
    "|Hashtag|Percentage Rise in Ratio between 2-day group and complete dataset|Frequency in 2-day group|Frequency in complete dataset|\n",
    "|---|---|---|---|\n",
    "|sharifuniversity|11.592720777744391|0.07772812128754879|0.006172464446676269|\n",
    "|sharif_university|11.797929227935546|0.03631837981557957|0.0028378325249918688|"
   ]
  },
  {
   "cell_type": "markdown",
   "metadata": {},
   "source": [
    "From these results we can conclude that:\n",
    "1. The most tweets on average in terms of 2-day groups in the dataset happened between October 2nd to 3rd with 9163.5 tweets/day.\n",
    "2. Comparison between the frequencies of words and hashtags used in tweets posted in this 2-day group and the complete dataset shows that there is a significant rise in words such as 'sharif', 'university', 'student' and hashtags such as 'sharifuniversity' and 'sharif_university' which implies that there is high correlation between what people tweeted during this 2-day period and the events took place in Sharif University of Technology on the start date of this 2-day period. \n",
    "\n",
    "\n",
    "For more information regarding the clash between the students and security forces, please refer to [link](https://www.reuters.com/world/middle-east/iran-lawmakers-chant-thank-you-police-amid-growing-public-fury-over-womans-death-2022-10-02/)"
   ]
  }
 ],
 "metadata": {
  "kernelspec": {
   "display_name": "Python 3.10.8 64-bit (microsoft store)",
   "language": "python",
   "name": "python3"
  },
  "language_info": {
   "codemirror_mode": {
    "name": "ipython",
    "version": 3
   },
   "file_extension": ".py",
   "mimetype": "text/x-python",
   "name": "python",
   "nbconvert_exporter": "python",
   "pygments_lexer": "ipython3",
   "version": "3.10.9 (tags/v3.10.9:1dd9be6, Dec  6 2022, 20:01:21) [MSC v.1934 64 bit (AMD64)]"
  },
  "orig_nbformat": 4,
  "vscode": {
   "interpreter": {
    "hash": "7b1f2b33e866b0bf2409397e5f58ba9cdf170d3b7f64c8f359c79998e2f88ad4"
   }
  }
 },
 "nbformat": 4,
 "nbformat_minor": 2
}
